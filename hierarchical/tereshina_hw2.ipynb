{
 "cells": [
  {
   "cell_type": "markdown",
   "metadata": {},
   "source": [
    "# Алгоритмы интеллектуальной обработки больших объемов данных\n",
    "## Домашнее задание №2 - Алгоритмы кластеризации\n"
   ]
  },
  {
   "cell_type": "markdown",
   "metadata": {},
   "source": [
    "###### <hr\\>\n",
    "**Общая информация**\n",
    "\n",
    "**Срок сдачи:** 23 октября 2017, 06:00 <br\\>\n",
    "**Штраф за опоздание:** -2 балла после 06:00 23 октября, -4 балла после 06:00 30 октября, -6 баллов после 06:00 6 ноября\n",
    "\n",
    "При отправлении ДЗ указывайте фамилию в названии файла\n",
    "Присылать ДЗ необходимо в виде ссылки на свой github репозиторий в slack @alkhamush Необходимо в slack создать таск в приватный чат:\n",
    "/todo Фамилия Имя ссылка на гитхаб @alkhamush\n",
    "Пример:\n",
    "/todo Ксения Стройкова https://github.com/stroykova/spheremailru/stroykova_hw1.ipynb @alkhamush\n",
    "\n",
    "Используйте данный Ipython Notebook при оформлении домашнего задания.\n",
    "<hr\\>"
   ]
  },
  {
   "cell_type": "markdown",
   "metadata": {},
   "source": [
    "###### Задание 1 (4 балла)\n",
    "Реализовать алгоритм кластеризации, который относится к вашему варианту. Проверить работоспособность алгоритма на \"Iris\". Сравните свой алгоритм кластеризации с алгоритмом из scikit-learn по времени выполнения, использую timeit. Ваша реализация не должна работать сильно дольше, а в идеале должна быть даже немного быстрее.\n",
    "\n",
    "###### Задание 2 (2 балла)\n",
    "Выбрать, имплементировать и использовать критерий качества\n",
    "\n",
    "###### Задание 3 (3балла)\n",
    "Применить алгоритм кластеризации к данным по странам.   \n",
    "Подход следующий: фиксируем год, для каждой страны берём индикаторы по зафиксированному году, кластеризуем по индикаторам.   \n",
    "Разбиение должно быть объяснимым, в противном случае, скорее всего нужно лучше настроить параметры кластеризации.   \n",
    "Данные нужно скачать тут https://data.worldbank.org/data-catalog/world-development-indicators.   \n",
    "Также необходимо показать, какие страны попали в общий кластер.\n",
    "Визуализировать результат с помощью T-SNE. Внимание! На полном объеме данных данный алгоритм может работать существенное время.\n",
    "\n",
    "###### Задание 4 (1 балл)\n",
    "Опишите в выводе почему и какие страны попали в общий кластер."
   ]
  },
  {
   "cell_type": "markdown",
   "metadata": {},
   "source": [
    "Основная задача этого задания - реализация одного из алгоритмов кластеризации. Кроме того, мы научимся подбирать параметры алгоритма, визуализируем результат кластеризации и попытаемся проанализировать природу полученных кластеров."
   ]
  },
  {
   "cell_type": "code",
   "execution_count": 1,
   "metadata": {},
   "outputs": [
    {
     "name": "stdout",
     "output_type": "stream",
     "text": [
      "Populating the interactive namespace from numpy and matplotlib\n"
     ]
    }
   ],
   "source": [
    "import pandas as pd\n",
    "import pylab as pl\n",
    "import numpy as np\n",
    "import scipy.spatial as ss\n",
    "import sklearn.cluster as sc\n",
    "import sklearn.manifold as sm\n",
    "import sklearn.datasets as ds\n",
    "import sklearn.metrics as smt\n",
    "from sklearn.preprocessing import StandardScaler\n",
    "import matplotlib.pyplot as plt\n",
    "import mpl_toolkits.basemap as bm\n",
    "\n",
    "%matplotlib inline\n",
    "\n",
    "plt.style.use('ggplot')\n",
    "plt.rcParams['figure.figsize'] = (12,5)\n",
    "\n",
    "# Plotting config\n",
    "%pylab inline"
   ]
  },
  {
   "cell_type": "markdown",
   "metadata": {},
   "source": [
    "## Реализация алгоритма"
   ]
  },
  {
   "cell_type": "markdown",
   "metadata": {},
   "source": [
    "Алгоритм кластеризации, который необходимо реализовать, выбирается на основании Вашего порядкового номера в списке группы."
   ]
  },
  {
   "cell_type": "markdown",
   "metadata": {},
   "source": [
    "1. Авилова Екатерина\n",
    "2. Адаменко Павел\n",
    "3. Акиньщиков Алексей\n",
    "4. Афанасьева Анастасия\n",
    "5. Балес Александр\n",
    "6. Беляев Владимир\n",
    "7. Беспалова Анастасия\n",
    "8. Богомолов Эмиль\n",
    "9. Боднарюк Василий\n",
    "10. Бучкин Александр\n",
    "11. Валинуров Денис\n",
    "12. Волков Глеб\n",
    "13. Голенков Кирилл\n",
    "14. Горбушин Михаил\n",
    "15. Димов Илья\n",
    "16. Докшина Елизавета\n",
    "17. Дорожинский Владислав\n",
    "18. Жирнов Михаил\n",
    "19. Жолковский Евгений\n",
    "20. Зайдель Петр\n",
    "21. Зимнюков Максим\n",
    "22. Иванов Илья\n",
    "23. Кашипов Артем\n",
    "24. Комов Евгений\n",
    "25. Кошман Дима\n",
    "26. Кузнецова Екатерина\n",
    "27. Кулагин Алексей\n",
    "28. Лавреновъ Виталiй\n",
    "29. Лебедь Федор\n",
    "30. Лешков Михаил\n",
    "31. Лозинский Иван\n",
    "32. Лоскутов Антон\n",
    "33. Лютов Владимир\n",
    "34. Мажаров Иван\n",
    "35. Манкевич Павел\n",
    "36. Муравьев Никита\n",
    "37. Находнов Максим\n",
    "38. Оплачко Николай\n",
    "39. Павлов Евгений\n",
    "40. Петряйкин Федор\n",
    "41. Рахматуллин Фарид\n",
    "42. Секретарев Тихон\n",
    "43. Сенюшкин Дмитрий\n",
    "44. Серов Николай\n",
    "45. Смирнов Александр\n",
    "46. Соловьев Павел\n",
    "47. Сомов Иван\n",
    "48. Спиркин Роман\n",
    "49. Терёшина Мария\n",
    "50. Торбунова Екатерина\n",
    "51. Тюгаев Антон\n",
    "52. Фельдман Борис\n",
    "53. Филин Максим\n",
    "54. Фролов Михаил\n",
    "55. Хохлов Олег\n",
    "56. Черемнов Андрей\n",
    "57. Шевцов Антон\n",
    "58. Шурыгин Александр"
   ]
  },
  {
   "cell_type": "code",
   "execution_count": 2,
   "metadata": {
    "collapsed": true
   },
   "outputs": [],
   "source": [
    "N = 49 # put your index here"
   ]
  },
  {
   "cell_type": "code",
   "execution_count": 3,
   "metadata": {},
   "outputs": [
    {
     "name": "stdout",
     "output_type": "stream",
     "text": [
      "Реализуем алгоритм кластеризации 'Hierarchical clustering с поддержкой single-linkage, complete-linkage, average-linkage (параметры - k, linkage)'\n"
     ]
    }
   ],
   "source": [
    "algorithms = [\n",
    "    u\"Gaussian Mixture Model с использованием maximum a-posteriori для выбора кластера (параметр - k)\",\n",
    "    u\"Hierarchical clustering с поддержкой single-linkage, complete-linkage, average-linkage (параметры - k, linkage)\",\n",
    "    u\"DBSCAN. (параметры - epsilon, min_pts)\"\n",
    "]\n",
    "\n",
    "my_algorithm = algorithms[N % len(algorithms)]\n",
    "print u\"Реализуем алгоритм кластеризации '%s'\" % my_algorithm"
   ]
  },
  {
   "cell_type": "markdown",
   "metadata": {},
   "source": [
    "Алгоритм кластеризации должен удовлетворять следующему интерфейсу. Конструктор принимает набор параметров, необходимых для работы алгоритма кластеризации. Метод `fit` подсчитывает параметры модели и возвращает `self`. Метод `predict` возвращает вектор с индексами кластеров для поданных в него объектов `x`"
   ]
  },
  {
   "cell_type": "code",
   "execution_count": 4,
   "metadata": {
    "collapsed": true
   },
   "outputs": [],
   "source": [
    "## Задание 1\n",
    "import itertools\n",
    "from sklearn.base import BaseEstimator, ClusterMixin\n",
    "\n",
    "class Clustering(BaseEstimator, ClusterMixin):\n",
    "    \"\"\"\n",
    "    Implement clustering algorithm according \n",
    "    \"\"\"\n",
    "    \n",
    "    def __init__(self, k=2, linkage=\"single\", affinity=\"euclidean\", **kwargs):\n",
    "        \"\"\"\n",
    "        Please add necessary algoritm parameters to class constructor.\n",
    "        \"\"\"\n",
    "        self.k = k\n",
    "        if (k < 1):\n",
    "            self.k = 1\n",
    "        self.linkage = linkage\n",
    "        self.affinity = affinity\n",
    "        return\n",
    "        \n",
    "    def fit(self, X, y=None):\n",
    "        \"\"\"\n",
    "        Use data matrix X to compute model parameters\n",
    "        \"\"\"\n",
    "        self.X_len = len(X)\n",
    "        \n",
    "        clusters_num = self.X_len\n",
    "        clusters = np.array(xrange(self.X_len))\n",
    "        \n",
    "        dist = ss.distance.cdist(X, X, metric = self.affinity)\n",
    "        dist[dist == 0] = np.ndarray.max(dist) + 1\n",
    "        \n",
    "        if (self.linkage == 'average'):\n",
    "            def average_link(x, y, n, m):\n",
    "                return (x * n + y * m) / (n + m)\n",
    "        \n",
    "            v_average_link = np.vectorize(average_link)\n",
    "            \n",
    "            while(clusters_num > self.k):\n",
    "                # find closest clusters\n",
    "                c_a, c_b = numpy.unravel_index(argmin(dist), dist.shape)\n",
    "\n",
    "                c = c_a\n",
    "                c_a = min(c, c_b)\n",
    "                c_b = max(c, c_b)\n",
    "\n",
    "                # calculate new distances\n",
    "                ind = np.arange(dist.shape[0])\n",
    "                ind1 = ind[(ind != c_a) & (ind != c_b)]\n",
    "                len_c_a = len(clusters[clusters == c_a])\n",
    "                len_c_b = len(clusters[clusters == c_b])\n",
    "                val = v_average_link(dist[c_a,], dist[c_b,], len_c_a, len_c_b)[ind1]\n",
    "\n",
    "                dist[c_a, ind1] = val\n",
    "                dist[c_b, ind1] = val\n",
    "\n",
    "                # merge clusters\n",
    "                ind = np.arange(dist.shape[0])\n",
    "                ind = ind[ind != c_b]\n",
    "                dist = dist.take(ind, axis = 0).take(ind, axis = 1)\n",
    "\n",
    "                # update labels\n",
    "                clusters[clusters == c_b] = c_a\n",
    "                clusters[clusters > c_b] -= 1\n",
    "                clusters_num -= 1\n",
    "            \n",
    "        else:\n",
    "            LINK = np.minimum\n",
    "            if (self.linkage == \"complete\"):\n",
    "                LINK = np.maximum\n",
    "            while(clusters_num > self.k):\n",
    "                # find closest clusters\n",
    "                c_a, c_b = numpy.unravel_index(argmin(dist), dist.shape)\n",
    "\n",
    "                c = c_a\n",
    "                c_a = min(c, c_b)\n",
    "                c_b = max(c, c_b)\n",
    "\n",
    "                # calculate new distances\n",
    "                ind = np.arange(dist.shape[0])\n",
    "                ind1 = ind[(ind != c_a) & (ind != c_b)]\n",
    "                val = LINK(dist[c_a,], dist[c_b,])[ind1]\n",
    "                dist[c_a, ind1] = val\n",
    "                dist[c_b, ind1] = val\n",
    "\n",
    "                # merge clusters\n",
    "                ind = np.arange(dist.shape[0])\n",
    "                ind = ind[ind != c_b]\n",
    "                dist = dist.take(ind, axis = 0).take(ind, axis = 1)\n",
    "\n",
    "                # update labels\n",
    "                clusters[clusters == c_b] = c_a\n",
    "                clusters[clusters > c_b] -= 1\n",
    "                clusters_num -= 1\n",
    "                \n",
    "        \n",
    "        self.clusters = clusters\n",
    "        return self\n",
    "    \n",
    "    def predict(self, X):\n",
    "        \"\"\"\n",
    "        Using computed model parameters predict cluster\n",
    "        for all objects from x\n",
    "        \"\"\"\n",
    "        return self.clusters\n",
    "    \n",
    "    def fit_predict(self, X, y=None):\n",
    "        self.fit(X, y)\n",
    "        return self.predict(X)"
   ]
  },
  {
   "cell_type": "markdown",
   "metadata": {},
   "source": [
    "Сначала проверим реализованный алгоритм кластеризации на классическом наборе данных [Iris](http://www.wikiwand.com/en/Iris_flower_data_set). Загрузим данные (они включены в библиотеку sklearn) и посмотрим на то, как они выглядят в двух проекциях (для простоты используем 2 класса из 3)."
   ]
  },
  {
   "cell_type": "code",
   "execution_count": 5,
   "metadata": {
    "scrolled": true
   },
   "outputs": [
    {
     "data": {
      "image/png": "[encoded data removed]",
      "text/plain": [
       "<matplotlib.figure.Figure at 0x7f54bc968fd0>"
      ]
     },
     "metadata": {},
     "output_type": "display_data"
    }
   ],
   "source": [
    "iris = ds.load_iris()\n",
    "x_iris = iris.data[:100]\n",
    "y_iris = iris.target[:100]\n",
    "\n",
    "pl.figure(figsize=(10, 5))\n",
    "\n",
    "pl.subplot(1, 2, 1)\n",
    "pl.scatter(x_iris[:, 0], x_iris[:, 1], c=y_iris, cmap=pl.cm.PuOr, lw=0, s=30)\n",
    "plt.xlabel('Sepal length')\n",
    "plt.ylabel('Sepal width')\n",
    "\n",
    "pl.subplot(1, 2, 2)\n",
    "pl.scatter(x_iris[:, 2], x_iris[:, 3], c=y_iris, cmap=pl.cm.PuOr, lw=0, s=30)\n",
    "plt.xlabel('Petal length')\n",
    "plt.ylabel('Petal width')\n",
    "pl.show()"
   ]
  },
  {
   "cell_type": "code",
   "execution_count": 6,
   "metadata": {},
   "outputs": [
    {
     "data": {
      "text/plain": [
       "array([0, 0, 0, 0, 0, 0, 0, 0, 0, 0, 0, 0, 0, 0, 0, 0, 0, 0, 0, 0, 0, 0, 0,\n",
       "       0, 0, 0, 0, 0, 0, 0, 0, 0, 0, 0, 0, 0, 0, 0, 0, 0, 0, 0, 0, 0, 0, 0,\n",
       "       0, 0, 0, 0, 1, 1, 1, 1, 1, 1, 1, 1, 1, 1, 1, 1, 1, 1, 1, 1, 1, 1, 1,\n",
       "       1, 1, 1, 1, 1, 1, 1, 1, 1, 1, 1, 1, 1, 1, 1, 1, 1, 1, 1, 1, 1, 1, 1,\n",
       "       1, 1, 1, 1, 1, 1, 1, 1])"
      ]
     },
     "execution_count": 6,
     "metadata": {},
     "output_type": "execute_result"
    }
   ],
   "source": [
    "labels = Clustering(k = 2).fit(x_iris).clusters\n",
    "labels"
   ]
  },
  {
   "cell_type": "code",
   "execution_count": 7,
   "metadata": {},
   "outputs": [
    {
     "data": {
      "text/plain": [
       "<matplotlib.collections.PathCollection at 0x7f54ba150fd0>"
      ]
     },
     "execution_count": 7,
     "metadata": {},
     "output_type": "execute_result"
    },
    {
     "data": {
      "image/png": "[encoded data removed]",
      "text/plain": [
       "<matplotlib.figure.Figure at 0x7f54bc9682d0>"
      ]
     },
     "metadata": {},
     "output_type": "display_data"
    }
   ],
   "source": [
    "pl.scatter(x_iris[:, 0], x_iris[:, 1], c=labels, cmap=pl.cm.PuOr, lw=0, s=30)"
   ]
  },
  {
   "cell_type": "code",
   "execution_count": 8,
   "metadata": {},
   "outputs": [
    {
     "name": "stdout",
     "output_type": "stream",
     "text": [
      "100 loops, best of 3: 9.63 ms per loop\n"
     ]
    }
   ],
   "source": [
    "%timeit (Clustering().fit(x_iris).clusters)"
   ]
  },
  {
   "cell_type": "code",
   "execution_count": 9,
   "metadata": {},
   "outputs": [
    {
     "name": "stdout",
     "output_type": "stream",
     "text": [
      "The slowest run took 84.39 times longer than the fastest. This could mean that an intermediate result is being cached.\n",
      "1000 loops, best of 3: 995 µs per loop\n"
     ]
    }
   ],
   "source": [
    "%timeit (sc.AgglomerativeClustering().fit_predict(x_iris))"
   ]
  },
  {
   "cell_type": "markdown",
   "metadata": {},
   "source": [
    "Видно, что классы разделяются, поэтому можно надеяться, что наш алгоритм \"найдет\" кластеры, соответствующие исходным классам. Результат работы реализованного алгоритма кластеризации предлагается сравнить с эталонной кластеризацией. Для этого предлагается изучить метрику ([adjusted rand score](http://scikit-learn.org/stable/modules/generated/sklearn.metrics.adjusted_rand_score.html)). В случае если значение этой метрики отличается от 1, предлагается поработать над улучшением реализации своего алгоритма."
   ]
  },
  {
   "cell_type": "code",
   "execution_count": 10,
   "metadata": {},
   "outputs": [
    {
     "name": "stdout",
     "output_type": "stream",
     "text": [
      "Adjusted Rand index for iris is: 1.00\n"
     ]
    }
   ],
   "source": [
    "pred_iris = Clustering().fit_predict(x_iris)\n",
    "print \"Adjusted Rand index for iris is: %.2f\" % smt.adjusted_rand_score(y_iris, pred_iris)"
   ]
  },
  {
   "cell_type": "markdown",
   "metadata": {},
   "source": [
    "Выбрать и реализовать критерий качества, на основании которого будут подбираться параметры модели. Варианты критериев:\n",
    "- Инерция (сумма квадратов расстояний от каждой из точек до ближайшего к этой точке центроида)\n",
    "- Средний диаметр (максимальное расстояние между точками в кластере) или радиус (расстояние от центроида до самой дальней от него точки в кластере)\n",
    "- Sihouette\n",
    "\n",
    "**Критерий качества необходимо выбрать таким образом, чтобы он подходил для реализованного алгоритма**"
   ]
  },
  {
   "cell_type": "code",
   "execution_count": 11,
   "metadata": {
    "collapsed": true
   },
   "outputs": [],
   "source": [
    "## Задание 2\n",
    "# Cредний диаметр\n",
    "def quality1(X, y):\n",
    "    \"\"\"\n",
    "    Implement quality criterion of your choice\n",
    "    \"\"\"\n",
    "    n = 0\n",
    "    k = 0\n",
    "    for i in range(0, len(X)):\n",
    "        d = X[y == i]\n",
    "        if (d.size == 0):\n",
    "            continue\n",
    "        k += 1\n",
    "        n += np.ndarray.mean(ss.distance.pdist(X))\n",
    "    return n / k "
   ]
  },
  {
   "cell_type": "code",
   "execution_count": 12,
   "metadata": {
    "collapsed": true
   },
   "outputs": [],
   "source": [
    "# Инерция\n",
    "def quality2(X, y):\n",
    "    \"\"\"\n",
    "    Implement quality criterion of your choice\n",
    "    \"\"\"\n",
    "    centroids = np.empty((len(X), X.shape[1]))\n",
    "    for i in range(0, len(X)):\n",
    "        d = X[y == i]\n",
    "        if (d.size == 0):\n",
    "            continue\n",
    "        centroids[y == i] = np.average(d, axis = 0)\n",
    "    n = numpy.ndarray.sum(np.power(ss.distance.cdist(X, centroids), 2))\n",
    "    return n"
   ]
  },
  {
   "cell_type": "markdown",
   "metadata": {},
   "source": [
    "Применим критерий для выбора параметров алгоритма. Предлагается изменить следующий код таким образом, чтобы кластеризация вызывалась с верным набором параметров. На графике можно будет увидеть зависимость критерия от параметров алгоритма. Необходимо выбрать оптимальные значения этих параметров."
   ]
  },
  {
   "cell_type": "code",
   "execution_count": 13,
   "metadata": {
    "collapsed": true
   },
   "outputs": [],
   "source": [
    "ks = range(1, 21)\n",
    "criteria1 = np.zeros(len(ks))\n",
    "criteria2 = np.zeros(len(ks))\n",
    "\n",
    "for i, k in enumerate(ks):\n",
    "    cls = Clustering(k = k)\n",
    "    y = cls.fit_predict(x_iris)\n",
    "    criteria1[i] = quality1(x_iris, y)\n",
    "    criteria2[i] = quality2(x_iris, y)"
   ]
  },
  {
   "cell_type": "code",
   "execution_count": 14,
   "metadata": {},
   "outputs": [
    {
     "data": {
      "image/png": "[encoded data removed]",
      "text/plain": [
       "<matplotlib.figure.Figure at 0x7f54ba15a310>"
      ]
     },
     "metadata": {},
     "output_type": "display_data"
    }
   ],
   "source": [
    "plt.figure(figsize=(15, 10))\n",
    "plt.subplots_adjust(bottom = 0.5, top = 1.5)\n",
    "plt.subplot(2, 1, 1)\n",
    "pl.plot(ks, criteria1)\n",
    "pl.title(\"$J(k)$\")\n",
    "pl.ylabel(\"Criteria $Avg diam$\")\n",
    "pl.xlabel(\"Number of clusters $k$\")\n",
    "pl.grid(True)\n",
    "\n",
    "plt.subplot(2, 1, 2)\n",
    "pl.plot(ks, criteria2)\n",
    "pl.title(\"$J(k)$\")\n",
    "pl.ylabel(\"Criteria $Inertia$\")\n",
    "pl.xlabel(\"Number of clusters $k$\")\n",
    "pl.grid(True)\n",
    "\n",
    "pl.show()"
   ]
  },
  {
   "cell_type": "markdown",
   "metadata": {},
   "source": [
    "График зависимости инерции от числа кластеров явно показывает, что для данных данных число кластеров более 2 плохо описывают данные - величина инерции резко возросла.\n",
    "График же зависимости среднего диаметра от числа кластеров показывает, что средний диаметр не является критерием качества."
   ]
  },
  {
   "cell_type": "code",
   "execution_count": 15,
   "metadata": {
    "collapsed": true
   },
   "outputs": [],
   "source": [
    "## Задание 3\n",
    "df = pd.read_csv('WDI_csv/WDIData.csv', sep=',')"
   ]
  },
  {
   "cell_type": "code",
   "execution_count": 16,
   "metadata": {},
   "outputs": [
    {
     "data": {
      "text/html": [
       "<div>\n",
       "<style>\n",
       "    .dataframe thead tr:only-child th {\n",
       "        text-align: right;\n",
       "    }\n",
       "\n",
       "    .dataframe thead th {\n",
       "        text-align: left;\n",
       "    }\n",
       "\n",
       "    .dataframe tbody tr th {\n",
       "        vertical-align: top;\n",
       "    }\n",
       "</style>\n",
       "<table border=\"1\" class=\"dataframe\">\n",
       "  <thead>\n",
       "    <tr style=\"text-align: right;\">\n",
       "      <th></th>\n",
       "      <th>Country Name</th>\n",
       "      <th>Country Code</th>\n",
       "      <th>Indicator Name</th>\n",
       "      <th>Indicator Code</th>\n",
       "      <th>1960</th>\n",
       "      <th>1961</th>\n",
       "      <th>1962</th>\n",
       "      <th>1963</th>\n",
       "      <th>1964</th>\n",
       "      <th>1965</th>\n",
       "      <th>...</th>\n",
       "      <th>2008</th>\n",
       "      <th>2009</th>\n",
       "      <th>2010</th>\n",
       "      <th>2011</th>\n",
       "      <th>2012</th>\n",
       "      <th>2013</th>\n",
       "      <th>2014</th>\n",
       "      <th>2015</th>\n",
       "      <th>2016</th>\n",
       "      <th>Unnamed: 61</th>\n",
       "    </tr>\n",
       "  </thead>\n",
       "  <tbody>\n",
       "    <tr>\n",
       "      <th>0</th>\n",
       "      <td>Arab World</td>\n",
       "      <td>ARB</td>\n",
       "      <td>2005 PPP conversion factor, GDP (LCU per inter...</td>\n",
       "      <td>PA.NUS.PPP.05</td>\n",
       "      <td>NaN</td>\n",
       "      <td>NaN</td>\n",
       "      <td>NaN</td>\n",
       "      <td>NaN</td>\n",
       "      <td>NaN</td>\n",
       "      <td>NaN</td>\n",
       "      <td>...</td>\n",
       "      <td>NaN</td>\n",
       "      <td>NaN</td>\n",
       "      <td>NaN</td>\n",
       "      <td>NaN</td>\n",
       "      <td>NaN</td>\n",
       "      <td>NaN</td>\n",
       "      <td>NaN</td>\n",
       "      <td>NaN</td>\n",
       "      <td>NaN</td>\n",
       "      <td>NaN</td>\n",
       "    </tr>\n",
       "    <tr>\n",
       "      <th>1</th>\n",
       "      <td>Arab World</td>\n",
       "      <td>ARB</td>\n",
       "      <td>2005 PPP conversion factor, private consumptio...</td>\n",
       "      <td>PA.NUS.PRVT.PP.05</td>\n",
       "      <td>NaN</td>\n",
       "      <td>NaN</td>\n",
       "      <td>NaN</td>\n",
       "      <td>NaN</td>\n",
       "      <td>NaN</td>\n",
       "      <td>NaN</td>\n",
       "      <td>...</td>\n",
       "      <td>NaN</td>\n",
       "      <td>NaN</td>\n",
       "      <td>NaN</td>\n",
       "      <td>NaN</td>\n",
       "      <td>NaN</td>\n",
       "      <td>NaN</td>\n",
       "      <td>NaN</td>\n",
       "      <td>NaN</td>\n",
       "      <td>NaN</td>\n",
       "      <td>NaN</td>\n",
       "    </tr>\n",
       "    <tr>\n",
       "      <th>2</th>\n",
       "      <td>Arab World</td>\n",
       "      <td>ARB</td>\n",
       "      <td>Access to clean fuels and technologies for coo...</td>\n",
       "      <td>EG.CFT.ACCS.ZS</td>\n",
       "      <td>NaN</td>\n",
       "      <td>NaN</td>\n",
       "      <td>NaN</td>\n",
       "      <td>NaN</td>\n",
       "      <td>NaN</td>\n",
       "      <td>NaN</td>\n",
       "      <td>...</td>\n",
       "      <td>82.831932</td>\n",
       "      <td>83.474617</td>\n",
       "      <td>84.006076</td>\n",
       "      <td>84.416148</td>\n",
       "      <td>84.734574</td>\n",
       "      <td>85.003645</td>\n",
       "      <td>85.244971</td>\n",
       "      <td>NaN</td>\n",
       "      <td>NaN</td>\n",
       "      <td>NaN</td>\n",
       "    </tr>\n",
       "    <tr>\n",
       "      <th>3</th>\n",
       "      <td>Arab World</td>\n",
       "      <td>ARB</td>\n",
       "      <td>Access to electricity (% of population)</td>\n",
       "      <td>EG.ELC.ACCS.ZS</td>\n",
       "      <td>NaN</td>\n",
       "      <td>NaN</td>\n",
       "      <td>NaN</td>\n",
       "      <td>NaN</td>\n",
       "      <td>NaN</td>\n",
       "      <td>NaN</td>\n",
       "      <td>...</td>\n",
       "      <td>85.042248</td>\n",
       "      <td>84.655338</td>\n",
       "      <td>85.955345</td>\n",
       "      <td>86.392313</td>\n",
       "      <td>86.846966</td>\n",
       "      <td>87.604961</td>\n",
       "      <td>88.039125</td>\n",
       "      <td>NaN</td>\n",
       "      <td>NaN</td>\n",
       "      <td>NaN</td>\n",
       "    </tr>\n",
       "    <tr>\n",
       "      <th>4</th>\n",
       "      <td>Arab World</td>\n",
       "      <td>ARB</td>\n",
       "      <td>Access to electricity, rural (% of rural popul...</td>\n",
       "      <td>EG.ELC.ACCS.RU.ZS</td>\n",
       "      <td>NaN</td>\n",
       "      <td>NaN</td>\n",
       "      <td>NaN</td>\n",
       "      <td>NaN</td>\n",
       "      <td>NaN</td>\n",
       "      <td>NaN</td>\n",
       "      <td>...</td>\n",
       "      <td>72.292323</td>\n",
       "      <td>71.765345</td>\n",
       "      <td>73.734266</td>\n",
       "      <td>74.500717</td>\n",
       "      <td>75.218497</td>\n",
       "      <td>76.712250</td>\n",
       "      <td>77.407269</td>\n",
       "      <td>NaN</td>\n",
       "      <td>NaN</td>\n",
       "      <td>NaN</td>\n",
       "    </tr>\n",
       "  </tbody>\n",
       "</table>\n",
       "<p>5 rows × 62 columns</p>\n",
       "</div>"
      ],
      "text/plain": [
       "  Country Name Country Code  \\\n",
       "0   Arab World          ARB   \n",
       "1   Arab World          ARB   \n",
       "2   Arab World          ARB   \n",
       "3   Arab World          ARB   \n",
       "4   Arab World          ARB   \n",
       "\n",
       "                                      Indicator Name     Indicator Code  1960  \\\n",
       "0  2005 PPP conversion factor, GDP (LCU per inter...      PA.NUS.PPP.05   NaN   \n",
       "1  2005 PPP conversion factor, private consumptio...  PA.NUS.PRVT.PP.05   NaN   \n",
       "2  Access to clean fuels and technologies for coo...     EG.CFT.ACCS.ZS   NaN   \n",
       "3            Access to electricity (% of population)     EG.ELC.ACCS.ZS   NaN   \n",
       "4  Access to electricity, rural (% of rural popul...  EG.ELC.ACCS.RU.ZS   NaN   \n",
       "\n",
       "   1961  1962  1963  1964  1965     ...            2008       2009       2010  \\\n",
       "0   NaN   NaN   NaN   NaN   NaN     ...             NaN        NaN        NaN   \n",
       "1   NaN   NaN   NaN   NaN   NaN     ...             NaN        NaN        NaN   \n",
       "2   NaN   NaN   NaN   NaN   NaN     ...       82.831932  83.474617  84.006076   \n",
       "3   NaN   NaN   NaN   NaN   NaN     ...       85.042248  84.655338  85.955345   \n",
       "4   NaN   NaN   NaN   NaN   NaN     ...       72.292323  71.765345  73.734266   \n",
       "\n",
       "        2011       2012       2013       2014  2015  2016  Unnamed: 61  \n",
       "0        NaN        NaN        NaN        NaN   NaN   NaN          NaN  \n",
       "1        NaN        NaN        NaN        NaN   NaN   NaN          NaN  \n",
       "2  84.416148  84.734574  85.003645  85.244971   NaN   NaN          NaN  \n",
       "3  86.392313  86.846966  87.604961  88.039125   NaN   NaN          NaN  \n",
       "4  74.500717  75.218497  76.712250  77.407269   NaN   NaN          NaN  \n",
       "\n",
       "[5 rows x 62 columns]"
      ]
     },
     "execution_count": 16,
     "metadata": {},
     "output_type": "execute_result"
    }
   ],
   "source": [
    "df.head()"
   ]
  },
  {
   "cell_type": "code",
   "execution_count": 17,
   "metadata": {
    "collapsed": true
   },
   "outputs": [],
   "source": [
    "# fixate year = 2014\n",
    "df = df[['Country Name', 'Indicator Code', '2014']]"
   ]
  },
  {
   "cell_type": "code",
   "execution_count": 18,
   "metadata": {
    "collapsed": true
   },
   "outputs": [],
   "source": [
    "# drop from df countries with strange values and records which can not be called countries\n",
    "df = df[df['Country Name'] != 'Iran, Islamic Rep.']\n",
    "df = df[df['Country Name'] != 'Vietnam']\n",
    "df = df[df['Country Name'] != 'Iraq']\n",
    "df = df[df['Country Name'] != 'Indonesia']\n",
    "df = df[df['Country Name'] != 'Korea, Rep.']\n",
    "df = df[df['Country Name'] != 'Japan']\n",
    "df = df[df['Country Name'] != 'Colombia']\n",
    "\n",
    "df = df[df['Country Name'] != 'World']\n",
    "\n",
    "df = df[df['Country Name'] != 'Europe & Central Asia (excluding high income)']\n",
    "df = df[df['Country Name'] != 'Europe & Central Asia']\n",
    "df = df[df['Country Name'] != 'Europe & Central Asia (IDA & IBRD countries)']\n",
    "\n",
    "df = df[df['Country Name'] != 'Heavily indebted poor countries (HIPC)']\n",
    "df = df[df['Country Name'] != 'IDA only']\n",
    "df = df[df['Country Name'] != 'IDA total']\n",
    "df = df[df['Country Name'] != 'Least developed countries: UN classification']\n",
    "df = df[df['Country Name'] != 'Pre-demographic dividend']\n",
    "df = df[df['Country Name'] != 'Post-demographic dividend']\n",
    "df = df[df['Country Name'] != 'Fragile and conflict affected situations']\n",
    "df = df[df['Country Name'] != 'OECD members']\n",
    "\n",
    "df = df[df['Country Name'] != 'High income']\n",
    "df = df[df['Country Name'] != 'Upper middle income']\n",
    "df = df[df['Country Name'] != 'Lower middle income']\n",
    "df = df[df['Country Name'] != 'Low & middle income']\n",
    "df = df[df['Country Name'] != 'Low income']\n",
    "\n",
    "df = df[df['Country Name'] != 'Early-demographic dividend']\n",
    "\n",
    "df = df[df['Country Name'] != 'East Asia & Pacific']\n",
    "df = df[df['Country Name'] != 'East Asia & Pacific (IDA & IBRD countries)']\n",
    "df = df[df['Country Name'] != 'East Asia & Pacific (excluding high income)']\n",
    "df = df[df['Country Name'] != 'East Asia & Pacific (IDA & IBRD)']\n",
    "\n",
    "df = df[df['Country Name'] != 'Europe & Central Asia (IDA & IBRD)']\n",
    "\n",
    "df = df[df['Country Name'] != 'Euro area']\n",
    "df = df[df['Country Name'] != 'European Union']\n",
    "\n",
    "df = df[df['Country Name'] != 'Latin America & Caribbean (excluding high income)']\n",
    "df = df[df['Country Name'] != 'Latin America & the Caribbean (IDA & IBRD countries)']\n",
    "df = df[df['Country Name'] != 'Latin America & Caribbean (IDA & IBRD)']\n",
    "df = df[df['Country Name'] != 'Latin America & Caribbean']\n",
    "df = df[df['Country Name'] != 'Caribbean small states']\n",
    "\n",
    "df = df[df['Country Name'] != 'IBRD only']\n",
    "df = df[df['Country Name'] != 'IDA & IBRD total']\n",
    "df = df[df['Country Name'] != 'IDA blend']\n",
    "df = df[df['Country Name'] != 'Late-demographic dividend']\n",
    "\n",
    "df = df[df['Country Name'] != 'Middle East & North Africa']\n",
    "df = df[df['Country Name'] != 'Middle East & North Africa (IDA & IBRD countries)']\n",
    "df = df[df['Country Name'] != 'Middle East & North Africa (IDA & IBRD)']\n",
    "df = df[df['Country Name'] != 'Middle East & North Africa (excluding high income)']\n",
    "\n",
    "df = df[df['Country Name'] != 'Middle income']\n",
    "df = df[df['Country Name'] != 'Not classified']\n",
    "df = df[df['Country Name'] != 'Other small states']\n",
    "df = df[df['Country Name'] != 'Pacific island small states']\n",
    "df = df[df['Country Name'] != 'Small states']\n",
    "\n",
    "df = df[df['Country Name'] != 'South Asia']\n",
    "df = df[df['Country Name'] != 'South Asia (IDA & IBRD)']\n",
    "\n",
    "df = df[df['Country Name'] != 'Sub-Saharan Africa']\n",
    "df = df[df['Country Name'] != 'Sub-Saharan Africa (IDA & IBRD countries)']\n",
    "df = df[df['Country Name'] != 'Sub-Saharan Africa (IDA & IBRD)']\n",
    "df = df[df['Country Name'] != 'Sub-Saharan Africa (excluding high income)']\n",
    "\n",
    "df = df[df['Country Name'] != 'Central Europe and the Baltics']\n",
    "\n",
    "df = df[df['Country Name'] != 'Arab World']\n",
    "df = df[df['Country Name'] != 'North America']"
   ]
  },
  {
   "cell_type": "code",
   "execution_count": 19,
   "metadata": {
    "collapsed": true
   },
   "outputs": [],
   "source": [
    "d = df.pivot(index = 'Country Name', columns = 'Indicator Code', values = '2014')"
   ]
  },
  {
   "cell_type": "code",
   "execution_count": 20,
   "metadata": {
    "collapsed": true
   },
   "outputs": [],
   "source": [
    "d = d.dropna(axis = 1, how = 'all')\n",
    "d = d.fillna(d.mean())"
   ]
  },
  {
   "cell_type": "code",
   "execution_count": 21,
   "metadata": {
    "collapsed": true
   },
   "outputs": [],
   "source": [
    "values = d.values"
   ]
  },
  {
   "cell_type": "code",
   "execution_count": 22,
   "metadata": {
    "collapsed": true
   },
   "outputs": [],
   "source": [
    "scaler = StandardScaler()\n",
    "x_scaled = scaler.fit_transform(values)"
   ]
  },
  {
   "cell_type": "code",
   "execution_count": 23,
   "metadata": {
    "collapsed": true
   },
   "outputs": [],
   "source": [
    "labels = Clustering(k = 10, linkage = 'complete').fit(x_scaled).clusters"
   ]
  },
  {
   "cell_type": "code",
   "execution_count": 24,
   "metadata": {
    "collapsed": true
   },
   "outputs": [],
   "source": [
    "X_TSNE = sm.TSNE(random_state = 1234).fit_transform(x_scaled)"
   ]
  },
  {
   "cell_type": "code",
   "execution_count": 25,
   "metadata": {},
   "outputs": [
    {
     "data": {
      "image/png": "[encoded data removed]",
      "text/plain": [
       "<matplotlib.figure.Figure at 0x7f54b875dd10>"
      ]
     },
     "metadata": {},
     "output_type": "display_data"
    }
   ],
   "source": [
    "pl.scatter(X_TSNE[:, 0], X_TSNE[:, 1], c=labels, cmap=pl.cm.PuOr, lw=0, s=30)\n",
    "pl.show()"
   ]
  },
  {
   "cell_type": "code",
   "execution_count": 27,
   "metadata": {},
   "outputs": [
    {
     "name": "stdout",
     "output_type": "stream",
     "text": [
      "Index([u'Afghanistan', u'Albania', u'Algeria', u'American Samoa', u'Andorra',\n",
      "       u'Antigua and Barbuda', u'Armenia', u'Aruba', u'Australia', u'Austria',\n",
      "       ...\n",
      "       u'Tuvalu', u'Ukraine', u'United Arab Emirates', u'United Kingdom',\n",
      "       u'Uruguay', u'Uzbekistan', u'Vanuatu', u'Virgin Islands (U.S.)',\n",
      "       u'West Bank and Gaza', u'Yemen, Rep.'],\n",
      "      dtype='object', name=u'Country Name', length=155)\n",
      "Index([u'Angola', u'Bangladesh', u'Benin', u'Burkina Faso', u'Burundi',\n",
      "       u'Cameroon', u'Central African Republic', u'Chad', u'Congo, Dem. Rep.',\n",
      "       u'Congo, Rep.', u'Cote d'Ivoire', u'Djibouti', u'Eritrea', u'Ethiopia',\n",
      "       u'Ghana', u'Guinea', u'Guinea-Bissau', u'Kenya', u'Liberia',\n",
      "       u'Madagascar', u'Malawi', u'Mali', u'Mauritania', u'Mozambique',\n",
      "       u'Nepal', u'Niger', u'Nigeria', u'Pakistan', u'Rwanda', u'Senegal',\n",
      "       u'Sierra Leone', u'Somalia', u'South Sudan', u'Sudan',\n",
      "       u'Syrian Arab Republic', u'Tajikistan', u'Togo', u'Uganda',\n",
      "       u'Venezuela, RB', u'Zambia', u'Zimbabwe'],\n",
      "      dtype='object', name=u'Country Name')\n",
      "Index([u'Argentina'], dtype='object', name=u'Country Name')\n",
      "Index([u'Brazil'], dtype='object', name=u'Country Name')\n",
      "Index([u'Cambodia', u'Chile', u'Lao PDR', u'Lebanon', u'Myanmar', u'Paraguay',\n",
      "       u'Tanzania'],\n",
      "      dtype='object', name=u'Country Name')\n",
      "Index([u'China'], dtype='object', name=u'Country Name')\n",
      "Index([u'India'], dtype='object', name=u'Country Name')\n",
      "Index([u'Mexico'], dtype='object', name=u'Country Name')\n",
      "Index([u'Russian Federation'], dtype='object', name=u'Country Name')\n",
      "Index([u'United States'], dtype='object', name=u'Country Name')\n"
     ]
    }
   ],
   "source": [
    "for i in range(0, 10):\n",
    "    print d.index[labels == i]"
   ]
  },
  {
   "cell_type": "markdown",
   "metadata": {
    "collapsed": true
   },
   "source": [
    "## Задание 4\n",
    "Результаты кластеризации получились осмысленными при выборе в качестве параметра linkage = complete, n_clusters = 10. <br>\n",
    "В отдельные кластеры выделились крупные страны - Россия, Китай, США, Индия, Мексика, Бразилия. <br>\n",
    "В общий кластер попали более мелкие государства. Они разделились на два крупных кластера - в один попали в основном более бедные страны, в другой - менее медные."
   ]
  },
  {
   "cell_type": "markdown",
   "metadata": {},
   "source": [
    "Поздравляем, Вы завершили домашние задания по модулю \"Алгоритмы кластеризации\". Надеемся, что это было интересно."
   ]
  }
 ],
 "metadata": {
  "kernelspec": {
   "display_name": "Python 2",
   "language": "python",
   "name": "python2"
  },
  "language_info": {
   "codemirror_mode": {
    "name": "ipython",
    "version": 2
   },
   "file_extension": ".py",
   "mimetype": "text/x-python",
   "name": "python",
   "nbconvert_exporter": "python",
   "pygments_lexer": "ipython2",
   "version": "2.7.13"
  }
 },
 "nbformat": 4,
 "nbformat_minor": 1
}
